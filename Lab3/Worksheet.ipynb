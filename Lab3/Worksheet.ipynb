{
 "cells": [
  {
   "cell_type": "code",
   "execution_count": 11,
   "id": "034dc555-e19b-4696-ae0e-359de1f19b9c",
   "metadata": {},
   "outputs": [],
   "source": [
    "import turtle as tt\n",
    "from tkinter import *\n",
    "import time\n",
    "\n",
    "COLORS = [\n",
    "    (255, 0, 0),        # Red\n",
    "    (0, 255, 0),        # Green\n",
    "    (0, 0, 255),        # Blue\n",
    "    (255, 255, 0),      # Yellow\n",
    "    (255, 165, 0),      # Orange\n",
    "    (128, 0, 128),      # Purple\n",
    "    (255, 192, 203),    # Pink\n",
    "    (0, 255, 255),      # Cyan\n",
    "    (255, 0, 255),      # Magenta\n",
    "    (165, 42, 42),      # Brown\n",
    "    (0, 128, 128),      # Teal\n",
    "    (128, 0, 0),        # Maroon\n",
    "    (0, 0, 128),        # Navy\n",
    "    (128, 128, 0),      # Olive\n",
    "    (128, 128, 128),    # Gray\n",
    "    (0, 0, 0),          # Black\n",
    "    (192, 192, 192),    # Silver\n",
    "    (255, 215, 0),      # Gold\n",
    "    (64, 224, 208)      # Turquoise\n",
    "]\n",
    "\n",
    "class Rule:\n",
    "    def __init__(self, base, rule):\n",
    "        self.base = base\n",
    "        self.rule = rule\n",
    "\n",
    "\n",
    "class RuleHandler:\n",
    "    def get_rule_from_base(rules, base):\n",
    "        for rule in rules:\n",
    "            if(rule.base == base):\n",
    "                return rule.rule\n",
    "        return 'NF'\n",
    "\n",
    "\n",
    "\n",
    "class Fractal:\n",
    "    def __init__(self, axiom, rules, angle):\n",
    "        self.axiom = axiom\n",
    "        self.rules = rules\n",
    "        self.angle = angle\n",
    "\n",
    "    def calculate(self, level):\n",
    "        for i in range(1, level):\n",
    "            new_axiom = ''\n",
    "            for a in self.axiom:\n",
    "                a_rule = RuleHandler.get_rule_from_base(self.rules, a)\n",
    "                if(a_rule != 'NF'):\n",
    "                    new_axiom = new_axiom+RuleHandler.get_rule_from_base(self.rules, a)\n",
    "                else:\n",
    "                    new_axiom = new_axiom+a\n",
    "            self.axiom = new_axiom\n",
    "\n",
    "    def paint(self, length):\n",
    "        tt.setpos(0, 0)\n",
    "        tt.setheading(90)\n",
    "        tt.tracer(False)\n",
    "        tt.speed(0); tt.delay(0)\n",
    "        expl = {'F': f'tt.forward({length})', \n",
    "                '+': f'tt.left({self.angle})', \n",
    "                '-': f'tt.right({self.angle})', \n",
    "                'X': f'tt.forward({length})', \n",
    "                'Y': f'tt.forward({length})'}\n",
    "        for v in self.axiom:\n",
    "            exec(expl[v])\n",
    "\n",
    "    def paint_anim(self, length):\n",
    "        tt.setpos(20, 20)\n",
    "        tt.setheading(90)\n",
    "        time.sleep(0.3)\n",
    "        tt.clearscreen()\n",
    "        tt.tracer(False)\n",
    "        tt.speed(0); tt.delay(0)\n",
    "        \n",
    "        expl = {'F': f'tt.forward({length})', \n",
    "                '+': f'tt.left({self.angle})', \n",
    "                '-': f'tt.right({self.angle})', \n",
    "                'X': f'tt.forward({length})', \n",
    "                'Y': f'tt.forward({length})'}\n",
    "        for v in self.axiom:\n",
    "            exec(expl[v])\n",
    "\n",
    "\n",
    "\n",
    "\n",
    "def run_fractal(axiom, rules, angle, level, length, angle_range, mode='anim', multiplyier=1):\n",
    "    #modes:\n",
    "    # - anim : animated\n",
    "    # - simult : all simultaniously\n",
    "    \n",
    "    tt.clearscreen()\n",
    "\n",
    "    if(angle_range == 0):\n",
    "        fractal = Fractal(axiom, rules, angle)    \n",
    "        fractal.calculate(level)\n",
    "        fractal.paint(length)\n",
    "        print('finished', angle)\n",
    "        tt.update()\n",
    "    else:    \n",
    "        delta_color = len(COLORS)/(2*angle_range)\n",
    "        for iangle in range(angle - multiplyier*angle_range, angle + multiplyier*angle_range, multiplyier):\n",
    "            fractal = Fractal(axiom, rules, iangle)    \n",
    "            fractal.calculate(level)\n",
    "            tt.colormode(255)\n",
    "            tt.color(COLORS[int(delta_color*(iangle-(angle - multiplyier*angle_range))/multiplyier)])\n",
    "            if(mode=='anim'):\n",
    "                fractal.paint_anim(length)\n",
    "            if(mode=='simult'):\n",
    "                fractal.paint(length)\n",
    "            print('finished', iangle)\n",
    "            tt.update()\n",
    "\n"
   ]
  },
  {
   "cell_type": "code",
   "execution_count": 2,
   "id": "93c33375-c56e-4818-9eb3-8d0b79e8325b",
   "metadata": {},
   "outputs": [
    {
     "name": "stdin",
     "output_type": "stream",
     "text": [
      "level =  5\n",
      "angle range =  0\n"
     ]
    },
    {
     "name": "stdout",
     "output_type": "stream",
     "text": [
      "finished 60\n"
     ]
    }
   ],
   "source": [
    "### Koch star\n",
    "axiom = 'F--F--F'\n",
    "rules = [Rule('F', 'F+F--F+F')]\n",
    "angle = 60\n",
    "level = int(input('level = ')) #suggested level: 5\n",
    "length = 4\n",
    "angle_range = int(input('angle range = '))\n",
    "\n",
    "run_fractal(axiom, rules, angle, level, length, angle_range)\n"
   ]
  },
  {
   "cell_type": "markdown",
   "id": "c5b68ae7-f8c7-466d-a880-72faecf45033",
   "metadata": {},
   "source": [
    "<img src=\"imgs/koch_star.png\" width=\"200\"/>"
   ]
  },
  {
   "cell_type": "code",
   "execution_count": 3,
   "id": "c06459dd-ec4b-40b2-8efc-30844ccac8b4",
   "metadata": {},
   "outputs": [
    {
     "name": "stdin",
     "output_type": "stream",
     "text": [
      "level =  14\n",
      "angle range =  0\n"
     ]
    },
    {
     "name": "stdout",
     "output_type": "stream",
     "text": [
      "finished 90\n"
     ]
    }
   ],
   "source": [
    "### dragon\n",
    "axiom = 'FX'\n",
    "rules = [Rule('X', 'X+YF+'), Rule('Y', '-FX-Y')]  #suggested level: 14\n",
    "angle = 90\n",
    "level = int(input('level = '))\n",
    "length = 2\n",
    "angle_range = int(input('angle range = '))\n",
    "\n",
    "run_fractal(axiom, rules, angle, level, length, angle_range)"
   ]
  },
  {
   "cell_type": "markdown",
   "id": "7348d298-a090-4231-9b69-3652ce9dbb35",
   "metadata": {},
   "source": [
    "<img src=\"imgs/dragon.png\" width=\"200\"/>"
   ]
  },
  {
   "cell_type": "code",
   "execution_count": 4,
   "id": "2fec611a-b42c-446f-ab86-b30615405faf",
   "metadata": {},
   "outputs": [
    {
     "name": "stdin",
     "output_type": "stream",
     "text": [
      "level =  5\n",
      "angle range =  0\n"
     ]
    },
    {
     "name": "stdout",
     "output_type": "stream",
     "text": [
      "finished 90\n"
     ]
    }
   ],
   "source": [
    "### fractal plane\n",
    "axiom = 'F+F+F+F'\n",
    "rules = [Rule('F', 'FF+F+F+F+FF')]\n",
    "angle = 90\n",
    "level = int(input('level = ')) #suggested level: 5\n",
    "length = 3\n",
    "angle_range = int(input('angle range = '))\n",
    "\n",
    "run_fractal(axiom, rules, angle, level, length, angle_range)\n"
   ]
  },
  {
   "cell_type": "markdown",
   "id": "7d5d926e-48df-42ca-8eea-7cb6e9dd9662",
   "metadata": {},
   "source": [
    "<img src=\"imgs/fractal_pane.png\" width=\"200\"/>"
   ]
  },
  {
   "cell_type": "code",
   "execution_count": 5,
   "id": "113c4928-56b3-449f-80a3-142892f8f335",
   "metadata": {},
   "outputs": [
    {
     "name": "stdin",
     "output_type": "stream",
     "text": [
      "level =  10\n",
      "angle range =  0\n"
     ]
    },
    {
     "name": "stdout",
     "output_type": "stream",
     "text": [
      "finished 45\n"
     ]
    }
   ],
   "source": [
    "### Levi curve\n",
    "axiom = 'F'\n",
    "rules = [Rule('F', '-F++F-')]\n",
    "angle = 45\n",
    "level = int(input('level = ')) #suggested level: 10\n",
    "length = 8\n",
    "angle_range = int(input('angle range = '))\n",
    "\n",
    "run_fractal(axiom, rules, angle, level, length, angle_range)"
   ]
  },
  {
   "cell_type": "markdown",
   "id": "cf66c17e-8ee3-4207-b0fb-62499b7f6cfd",
   "metadata": {},
   "source": [
    "<img src=\"imgs/levi.png\" width=\"200\"/>"
   ]
  },
  {
   "cell_type": "code",
   "execution_count": 6,
   "id": "d6689c5e-0cce-4b56-9a47-70c832c7e8d5",
   "metadata": {},
   "outputs": [
    {
     "name": "stdin",
     "output_type": "stream",
     "text": [
      "level =  5\n",
      "angle range =  0\n"
     ]
    },
    {
     "name": "stdout",
     "output_type": "stream",
     "text": [
      "finished 60\n"
     ]
    }
   ],
   "source": [
    "### Gectospectral Gasper curve\n",
    "axiom = 'XF'\n",
    "rules = [Rule('X', 'X+YF++YF-FX--FXFX-YF+'), Rule('Y', '-FX+YFYF++YF+FX--FX-Y')]\n",
    "angle = 60\n",
    "level = int(input('level = ')) #suggested level: 5\n",
    "length = 2\n",
    "angle_range = int(input('angle range = '))\n",
    "\n",
    "run_fractal(axiom, rules, angle, level, length, angle_range)"
   ]
  },
  {
   "cell_type": "markdown",
   "id": "d776d364-3143-414a-a11f-b9b5e8e5e2dd",
   "metadata": {},
   "source": [
    "<img src=\"imgs/gasper.png\" width=\"200\"/>"
   ]
  },
  {
   "cell_type": "code",
   "execution_count": 12,
   "id": "fe1e0b30-5c62-4f64-8a63-1aed0319086f",
   "metadata": {},
   "outputs": [
    {
     "name": "stdin",
     "output_type": "stream",
     "text": [
      "level =  5\n",
      "angle range =  0\n"
     ]
    },
    {
     "name": "stdout",
     "output_type": "stream",
     "text": [
      "finished 90\n"
     ]
    }
   ],
   "source": [
    "### Fractal Rings\n",
    "axiom = 'F+F+F+F'\n",
    "rules = [Rule('F', 'FF+F+F+F+F+F-F')]\n",
    "angle = 90\n",
    "level = int(input('level = ')) #suggested level: 5\n",
    "length = 2\n",
    "angle_range = int(input('angle range = '))\n",
    "\n",
    "run_fractal(axiom, rules, angle, level, length, angle_range)"
   ]
  },
  {
   "cell_type": "markdown",
   "id": "93521e4e-1e05-4766-b128-7ee26794f35b",
   "metadata": {},
   "source": [
    "<img src=\"imgs/fractal_rings.png\" width=\"200\"/>"
   ]
  },
  {
   "cell_type": "code",
   "execution_count": 14,
   "id": "ba50829a-d1dc-4144-b3fa-3e07d33a2c03",
   "metadata": {},
   "outputs": [
    {
     "name": "stdin",
     "output_type": "stream",
     "text": [
      "level =  8\n",
      "angle range =  0\n"
     ]
    },
    {
     "name": "stdout",
     "output_type": "stream",
     "text": [
      "finished 60\n"
     ]
    }
   ],
   "source": [
    "### Serpinskyi arrow\n",
    "axiom = 'YF'\n",
    "rules = [Rule('X', 'YF+XF+Y'), Rule('Y', 'XF-YF-X')]\n",
    "angle = 60\n",
    "level = int(input('level = ')) #suggested level: 9\n",
    "length = 1\n",
    "angle_range = int(input('angle range = '))\n",
    "\n",
    "run_fractal(axiom, rules, angle, level, length, angle_range)"
   ]
  },
  {
   "cell_type": "markdown",
   "id": "73813e7c-2c8e-435e-9ee1-c008c606e660",
   "metadata": {},
   "source": [
    "<img src=\"imgs/serpinsky_arrow.png\" width=\"200\"/>"
   ]
  },
  {
   "cell_type": "code",
   "execution_count": 15,
   "id": "4dc23e05-5520-443b-859c-b50a335cfa06",
   "metadata": {},
   "outputs": [
    {
     "name": "stdin",
     "output_type": "stream",
     "text": [
      "level =  7\n",
      "angle range =  0\n"
     ]
    },
    {
     "name": "stdout",
     "output_type": "stream",
     "text": [
      "finished 90\n"
     ]
    }
   ],
   "source": [
    "### Fractal Gilbert's curve\n",
    "axiom = 'X'\n",
    "rules = [Rule('X', '-YF+XFX+FY-'), Rule('Y', '+FX-YFY-FX+')]\n",
    "angle = 90\n",
    "level = int(input('level = ')) #suggested level: 7\n",
    "length = 2\n",
    "angle_range = int(input('angle range = '))\n",
    "\n",
    "run_fractal(axiom, rules, angle, level, length, angle_range)"
   ]
  },
  {
   "cell_type": "markdown",
   "id": "645ed067-c807-443e-a331-c83f66b1f99f",
   "metadata": {},
   "source": [
    "<img src=\"imgs/gilberts_curve.png\" width=\"200\"/>"
   ]
  }
 ],
 "metadata": {
  "kernelspec": {
   "display_name": "Python 3 (ipykernel)",
   "language": "python",
   "name": "python3"
  },
  "language_info": {
   "codemirror_mode": {
    "name": "ipython",
    "version": 3
   },
   "file_extension": ".py",
   "mimetype": "text/x-python",
   "name": "python",
   "nbconvert_exporter": "python",
   "pygments_lexer": "ipython3",
   "version": "3.12.2"
  }
 },
 "nbformat": 4,
 "nbformat_minor": 5
}
