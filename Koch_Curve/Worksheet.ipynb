{
 "cells": [
  {
   "cell_type": "code",
   "execution_count": 5,
   "id": "034dc555-e19b-4696-ae0e-359de1f19b9c",
   "metadata": {},
   "outputs": [],
   "source": [
    "import turtle as tt\n",
    "from tkinter import *\n",
    "\n",
    "\n",
    "COLORS = [\n",
    "    (255, 0, 0),        # Red\n",
    "    (0, 255, 0),        # Green\n",
    "    (0, 0, 255),        # Blue\n",
    "    (255, 255, 0),      # Yellow\n",
    "    (255, 165, 0),      # Orange\n",
    "    (128, 0, 128),      # Purple\n",
    "    (255, 192, 203),    # Pink\n",
    "    (0, 255, 255),      # Cyan\n",
    "    (255, 0, 255),      # Magenta\n",
    "    (165, 42, 42),      # Brown\n",
    "    (0, 128, 128),      # Teal\n",
    "    (128, 0, 0),        # Maroon\n",
    "    (0, 0, 128),        # Navy\n",
    "    (128, 128, 0),      # Olive\n",
    "    (128, 128, 128),    # Gray\n",
    "    (0, 0, 0),          # Black\n",
    "    (192, 192, 192),    # Silver\n",
    "    (255, 215, 0),      # Gold\n",
    "    (64, 224, 208)      # Turquoise\n",
    "]\n",
    "\n",
    "class Rule:\n",
    "    def __init__(self, base, rule):\n",
    "        self.base = base\n",
    "        self.rule = rule\n",
    "\n",
    "\n",
    "class RuleHandler:\n",
    "    def get_rule_from_base(rules, base):\n",
    "        for rule in rules:\n",
    "            if(rule.base == base):\n",
    "                return rule.rule\n",
    "        return 'NF'\n",
    "\n",
    "\n",
    "\n",
    "class Fractal:\n",
    "    def __init__(self, axiom, rules, angle):\n",
    "        self.axiom = axiom\n",
    "        self.rules = rules\n",
    "        self.angle = angle\n",
    "\n",
    "    def calculate(self, level):\n",
    "        for i in range(1, level):\n",
    "            new_axiom = ''\n",
    "            for a in self.axiom:\n",
    "                a_rule = RuleHandler.get_rule_from_base(self.rules, a)\n",
    "                if(a_rule != 'NF'):\n",
    "                    new_axiom = new_axiom+RuleHandler.get_rule_from_base(self.rules, a)\n",
    "                else:\n",
    "                    new_axiom = new_axiom+a\n",
    "            self.axiom = new_axiom\n",
    "\n",
    "    def paint(self, length):\n",
    "        tt.setpos(0, 0)\n",
    "        tt.setheading(90)\n",
    "        tt.tracer(False)\n",
    "        tt.speed(0); tt.delay(0)\n",
    "        expl = {'F': f'tt.forward({length})', \n",
    "                '+': f'tt.left({self.angle})', \n",
    "                '-': f'tt.right({self.angle})', \n",
    "                'X': f'tt.forward({length})', \n",
    "                'Y': f'tt.forward({length})'}\n",
    "        for v in self.axiom:\n",
    "            exec(expl[v])\n",
    "\n",
    "\n",
    "\n",
    "\n",
    "\n",
    "\n",
    "def run_fractal(axiom, rules, angle, level, length, angle_range):\n",
    "    tt.clearscreen()\n",
    "\n",
    "    if(angle_range == 0):\n",
    "        fractal = Fractal(axiom, rules, angle)    \n",
    "        fractal.calculate(level)\n",
    "        fractal.paint(length)\n",
    "        print('finished', angle)\n",
    "        tt.update()\n",
    "    else:    \n",
    "        delta_color = len(COLORS)/(2*angle_range)\n",
    "        multiplyier = 5\n",
    "        for iangle in range(angle - multiplyier*angle_range, angle + multiplyier*angle_range, multiplyier):\n",
    "            fractal = Fractal(axiom, rules, iangle)    \n",
    "            fractal.calculate(level)\n",
    "            tt.colormode(255)\n",
    "            tt.color(COLORS[int(delta_color*(iangle-(angle - multiplyier*angle_range))/multiplyier)])\n",
    "            fractal.paint(length)\n",
    "            print('finished', iangle)\n",
    "            tt.update()\n",
    "\n"
   ]
  },
  {
   "cell_type": "code",
   "execution_count": 5,
   "id": "93c33375-c56e-4818-9eb3-8d0b79e8325b",
   "metadata": {},
   "outputs": [
    {
     "name": "stdin",
     "output_type": "stream",
     "text": [
      "level =  4\n",
      "angle range =  3\n"
     ]
    },
    {
     "ename": "AttributeError",
     "evalue": "module 'iturtle' has no attribute 'clearscreen'",
     "output_type": "error",
     "traceback": [
      "\u001b[1;31m---------------------------------------------------------------------------\u001b[0m",
      "\u001b[1;31mAttributeError\u001b[0m                            Traceback (most recent call last)",
      "Cell \u001b[1;32mIn[5], line 9\u001b[0m\n\u001b[0;32m      6\u001b[0m length \u001b[38;5;241m=\u001b[39m \u001b[38;5;241m4\u001b[39m\n\u001b[0;32m      7\u001b[0m angle_range \u001b[38;5;241m=\u001b[39m \u001b[38;5;28mint\u001b[39m(\u001b[38;5;28minput\u001b[39m(\u001b[38;5;124m'\u001b[39m\u001b[38;5;124mangle range = \u001b[39m\u001b[38;5;124m'\u001b[39m))\n\u001b[1;32m----> 9\u001b[0m \u001b[43mrun_fractal\u001b[49m\u001b[43m(\u001b[49m\u001b[43maxiom\u001b[49m\u001b[43m,\u001b[49m\u001b[43m \u001b[49m\u001b[43mrules\u001b[49m\u001b[43m,\u001b[49m\u001b[43m \u001b[49m\u001b[43mangle\u001b[49m\u001b[43m,\u001b[49m\u001b[43m \u001b[49m\u001b[43mlevel\u001b[49m\u001b[43m,\u001b[49m\u001b[43m \u001b[49m\u001b[43mlength\u001b[49m\u001b[43m,\u001b[49m\u001b[43m \u001b[49m\u001b[43mangle_range\u001b[49m\u001b[43m)\u001b[49m\n",
      "Cell \u001b[1;32mIn[4], line 79\u001b[0m, in \u001b[0;36mrun_fractal\u001b[1;34m(axiom, rules, angle, level, length, angle_range)\u001b[0m\n\u001b[0;32m     77\u001b[0m \u001b[38;5;28;01mdef\u001b[39;00m \u001b[38;5;21mrun_fractal\u001b[39m(axiom, rules, angle, level, length, angle_range):\n\u001b[0;32m     78\u001b[0m     delta_color \u001b[38;5;241m=\u001b[39m \u001b[38;5;28mlen\u001b[39m(COLORS)\u001b[38;5;241m/\u001b[39m(\u001b[38;5;241m2\u001b[39m\u001b[38;5;241m*\u001b[39mangle_range)\n\u001b[1;32m---> 79\u001b[0m     \u001b[43mtt\u001b[49m\u001b[38;5;241;43m.\u001b[39;49m\u001b[43mclearscreen\u001b[49m()\n\u001b[0;32m     81\u001b[0m     multiplyier \u001b[38;5;241m=\u001b[39m \u001b[38;5;241m5\u001b[39m\n\u001b[0;32m     82\u001b[0m     \u001b[38;5;28;01mfor\u001b[39;00m iangle \u001b[38;5;129;01min\u001b[39;00m \u001b[38;5;28mrange\u001b[39m(angle \u001b[38;5;241m-\u001b[39m multiplyier\u001b[38;5;241m*\u001b[39mangle_range, angle \u001b[38;5;241m+\u001b[39m multiplyier\u001b[38;5;241m*\u001b[39mangle_range, multiplyier):\n",
      "\u001b[1;31mAttributeError\u001b[0m: module 'iturtle' has no attribute 'clearscreen'"
     ]
    }
   ],
   "source": [
    "### Koch star\n",
    "axiom = 'F--F--F'\n",
    "rules = [Rule('F', 'F+F--F+F')]\n",
    "angle = 60\n",
    "level = int(input('level = ')) #suggested level: 5\n",
    "length = 4\n",
    "angle_range = int(input('angle range = '))\n",
    "\n",
    "run_fractal(axiom, rules, angle, level, length, angle_range)\n"
   ]
  },
  {
   "cell_type": "code",
   "execution_count": 3,
   "id": "c06459dd-ec4b-40b2-8efc-30844ccac8b4",
   "metadata": {},
   "outputs": [
    {
     "name": "stdin",
     "output_type": "stream",
     "text": [
      "level =  12\n",
      "angle range =  2\n"
     ]
    },
    {
     "name": "stdout",
     "output_type": "stream",
     "text": [
      "finished 80\n",
      "finished 85\n",
      "finished 90\n",
      "finished 95\n"
     ]
    },
    {
     "name": "stdin",
     "output_type": "stream",
     "text": [
      " \n"
     ]
    },
    {
     "data": {
      "text/plain": [
       "''"
      ]
     },
     "execution_count": 3,
     "metadata": {},
     "output_type": "execute_result"
    }
   ],
   "source": [
    "### dragon\n",
    "axiom = 'FX'\n",
    "rules = [Rule('X', 'X+YF+'), Rule('Y', '-FX-Y')]  #suggested level: 14\n",
    "angle = 90\n",
    "level = int(input('level = '))\n",
    "length = 2\n",
    "angle_range = int(input('angle range = '))\n",
    "\n",
    "run_fractal(axiom, rules, angle, level, length, angle_range)\n",
    "\n",
    "# fractal = Fractal(axiom, rules, angle)    \n",
    "# fractal.calculate(level)\n",
    "# fractal.paint()\n",
    "# print('finished')\n",
    "# tt.update()"
   ]
  },
  {
   "cell_type": "code",
   "execution_count": 4,
   "id": "2fec611a-b42c-446f-ab86-b30615405faf",
   "metadata": {},
   "outputs": [
    {
     "name": "stdin",
     "output_type": "stream",
     "text": [
      "level =  5\n",
      "angle range =  3\n"
     ]
    },
    {
     "name": "stdout",
     "output_type": "stream",
     "text": [
      "finished 75\n",
      "finished 80\n",
      "finished 85\n",
      "finished 90\n",
      "finished 95\n",
      "finished 100\n"
     ]
    }
   ],
   "source": [
    "### cube\n",
    "axiom = 'F+F+F+F'\n",
    "rules = [Rule('F', 'FF+F+F+F+FF')]\n",
    "angle = 90\n",
    "level = int(input('level = ')) #suggested level: 5\n",
    "length = 3\n",
    "angle_range = int(input('angle range = '))\n",
    "\n",
    "run_fractal(axiom, rules, angle, level, length, angle_range)\n"
   ]
  },
  {
   "cell_type": "code",
   "execution_count": 8,
   "id": "113c4928-56b3-449f-80a3-142892f8f335",
   "metadata": {},
   "outputs": [
    {
     "name": "stdin",
     "output_type": "stream",
     "text": [
      "level =  10\n",
      "angle range =  2\n"
     ]
    },
    {
     "name": "stdout",
     "output_type": "stream",
     "text": [
      "finished 35\n",
      "finished 40\n",
      "finished 45\n",
      "finished 50\n"
     ]
    }
   ],
   "source": [
    "### Levi curve\n",
    "axiom = 'F'\n",
    "rules = [Rule('F', '-F++F-')]\n",
    "angle = 45\n",
    "level = int(input('level = ')) #suggested level: 10\n",
    "length = 8\n",
    "angle_range = int(input('angle range = '))\n",
    "\n",
    "run_fractal(axiom, rules, angle, level, length, angle_range)"
   ]
  },
  {
   "cell_type": "code",
   "execution_count": 7,
   "id": "d6689c5e-0cce-4b56-9a47-70c832c7e8d5",
   "metadata": {},
   "outputs": [
    {
     "name": "stdin",
     "output_type": "stream",
     "text": [
      "level =  1\n",
      "angle range =  1\n"
     ]
    },
    {
     "name": "stdout",
     "output_type": "stream",
     "text": [
      "finished 55\n",
      "finished 60\n"
     ]
    }
   ],
   "source": [
    "### Gectospectral Gasper curve\n",
    "axiom = 'XF'\n",
    "rules = [Rule('X', 'X+YF++YF-FX--FXFX-YF+'), Rule('Y', '-FX+YFYF++YF+FX--FX-Y')]\n",
    "angle = 60\n",
    "level = int(input('level = ')) #suggested level: 5\n",
    "length = 2\n",
    "angle_range = int(input('angle range = '))\n",
    "\n",
    "run_fractal(axiom, rules, angle, level, length, angle_range)"
   ]
  },
  {
   "cell_type": "code",
   "execution_count": 8,
   "id": "fe1e0b30-5c62-4f64-8a63-1aed0319086f",
   "metadata": {},
   "outputs": [
    {
     "name": "stdin",
     "output_type": "stream",
     "text": [
      "level =  5\n",
      "angle range =  1\n"
     ]
    },
    {
     "name": "stdout",
     "output_type": "stream",
     "text": [
      "finished 85\n",
      "finished 90\n"
     ]
    }
   ],
   "source": [
    "### Fractal Rings\n",
    "axiom = 'F+F+F+F'\n",
    "rules = [Rule('F', 'FF+F+F+F+F+F-F')]\n",
    "angle = 90\n",
    "level = int(input('level = ')) #suggested level: 5\n",
    "length = 2\n",
    "angle_range = int(input('angle range = '))\n",
    "\n",
    "run_fractal(axiom, rules, angle, level, length, angle_range)"
   ]
  },
  {
   "cell_type": "code",
   "execution_count": 10,
   "id": "ba50829a-d1dc-4144-b3fa-3e07d33a2c03",
   "metadata": {},
   "outputs": [
    {
     "name": "stdin",
     "output_type": "stream",
     "text": [
      "level =  9\n",
      "angle range =  3\n"
     ]
    },
    {
     "name": "stdout",
     "output_type": "stream",
     "text": [
      "finished 45\n",
      "finished 50\n",
      "finished 55\n",
      "finished 60\n",
      "finished 65\n",
      "finished 70\n"
     ]
    }
   ],
   "source": [
    "### Serpinskyi arrow\n",
    "axiom = 'YF'\n",
    "rules = [Rule('X', 'YF+XF+Y'), Rule('Y', 'XF-YF-X')]\n",
    "angle = 60\n",
    "level = int(input('level = ')) #suggested level: 9\n",
    "length = 1.5\n",
    "angle_range = int(input('angle range = '))\n",
    "\n",
    "run_fractal(axiom, rules, angle, level, length, angle_range)"
   ]
  },
  {
   "cell_type": "code",
   "execution_count": 8,
   "id": "4dc23e05-5520-443b-859c-b50a335cfa06",
   "metadata": {},
   "outputs": [
    {
     "name": "stdin",
     "output_type": "stream",
     "text": [
      "level =  7\n",
      "angle range =  0\n"
     ]
    },
    {
     "name": "stdout",
     "output_type": "stream",
     "text": [
      "finished 90\n"
     ]
    }
   ],
   "source": [
    "### Fractal Gilbert's curve\n",
    "axiom = 'X'\n",
    "rules = [Rule('X', '-YF+XFX+FY-'), Rule('Y', '+FX-YFY-FX+')]\n",
    "angle = 90\n",
    "level = int(input('level = ')) #suggested level: 7\n",
    "length = 2\n",
    "angle_range = int(input('angle range = '))\n",
    "\n",
    "run_fractal(axiom, rules, angle, level, length, angle_range)"
   ]
  }
 ],
 "metadata": {
  "kernelspec": {
   "display_name": "Python 3 (ipykernel)",
   "language": "python",
   "name": "python3"
  },
  "language_info": {
   "codemirror_mode": {
    "name": "ipython",
    "version": 3
   },
   "file_extension": ".py",
   "mimetype": "text/x-python",
   "name": "python",
   "nbconvert_exporter": "python",
   "pygments_lexer": "ipython3",
   "version": "3.12.2"
  }
 },
 "nbformat": 4,
 "nbformat_minor": 5
}
